{
  "nbformat": 4,
  "nbformat_minor": 0,
  "metadata": {
    "colab": {
      "name": "Pose_Estimation_2_Intro_to_CNNS",
      "provenance": [],
      "collapsed_sections": [],
      "toc_visible": true,
      "authorship_tag": "ABX9TyOU5sCc480I44mo/W0i7zwO",
      "include_colab_link": true
    },
    "kernelspec": {
      "name": "python3",
      "display_name": "Python 3"
    },
    "widgets": {
      "application/vnd.jupyter.widget-state+json": {
        "e46e168a6e614cc8bebbbce3aca3d497": {
          "model_module": "@jupyter-widgets/controls",
          "model_name": "HBoxModel",
          "state": {
            "_view_name": "HBoxView",
            "_dom_classes": [],
            "_model_name": "HBoxModel",
            "_view_module": "@jupyter-widgets/controls",
            "_model_module_version": "1.5.0",
            "_view_count": null,
            "_view_module_version": "1.5.0",
            "box_style": "",
            "layout": "IPY_MODEL_6e27b6c3dc9d4eb4add4d2e9b69d4719",
            "_model_module": "@jupyter-widgets/controls",
            "children": [
              "IPY_MODEL_78c28ff837e14b7795665b229cf0e439",
              "IPY_MODEL_cd60462ed2ad42cbb48e8663d7c70fbc"
            ]
          }
        },
        "6e27b6c3dc9d4eb4add4d2e9b69d4719": {
          "model_module": "@jupyter-widgets/base",
          "model_name": "LayoutModel",
          "state": {
            "_view_name": "LayoutView",
            "grid_template_rows": null,
            "right": null,
            "justify_content": null,
            "_view_module": "@jupyter-widgets/base",
            "overflow": null,
            "_model_module_version": "1.2.0",
            "_view_count": null,
            "flex_flow": null,
            "width": null,
            "min_width": null,
            "border": null,
            "align_items": null,
            "bottom": null,
            "_model_module": "@jupyter-widgets/base",
            "top": null,
            "grid_column": null,
            "overflow_y": null,
            "overflow_x": null,
            "grid_auto_flow": null,
            "grid_area": null,
            "grid_template_columns": null,
            "flex": null,
            "_model_name": "LayoutModel",
            "justify_items": null,
            "grid_row": null,
            "max_height": null,
            "align_content": null,
            "visibility": null,
            "align_self": null,
            "height": null,
            "min_height": null,
            "padding": null,
            "grid_auto_rows": null,
            "grid_gap": null,
            "max_width": null,
            "order": null,
            "_view_module_version": "1.2.0",
            "grid_template_areas": null,
            "object_position": null,
            "object_fit": null,
            "grid_auto_columns": null,
            "margin": null,
            "display": null,
            "left": null
          }
        },
        "78c28ff837e14b7795665b229cf0e439": {
          "model_module": "@jupyter-widgets/controls",
          "model_name": "IntProgressModel",
          "state": {
            "_view_name": "ProgressView",
            "style": "IPY_MODEL_180bbfeaf5894de58533a0dcd1a25c4e",
            "_dom_classes": [],
            "description": "",
            "_model_name": "IntProgressModel",
            "bar_style": "info",
            "max": 1,
            "_view_module": "@jupyter-widgets/controls",
            "_model_module_version": "1.5.0",
            "value": 1,
            "_view_count": null,
            "_view_module_version": "1.5.0",
            "orientation": "horizontal",
            "min": 0,
            "description_tooltip": null,
            "_model_module": "@jupyter-widgets/controls",
            "layout": "IPY_MODEL_af52f1038f9d43cfbc7cbbd4b18ae4e1"
          }
        },
        "cd60462ed2ad42cbb48e8663d7c70fbc": {
          "model_module": "@jupyter-widgets/controls",
          "model_name": "HTMLModel",
          "state": {
            "_view_name": "HTMLView",
            "style": "IPY_MODEL_293f87ead2074f71877a4a40414de089",
            "_dom_classes": [],
            "description": "",
            "_model_name": "HTMLModel",
            "placeholder": "​",
            "_view_module": "@jupyter-widgets/controls",
            "_model_module_version": "1.5.0",
            "value": "182042624it [00:30, 17180556.98it/s]",
            "_view_count": null,
            "_view_module_version": "1.5.0",
            "description_tooltip": null,
            "_model_module": "@jupyter-widgets/controls",
            "layout": "IPY_MODEL_bc712789d7d54cd597a948a5924fb9b9"
          }
        },
        "180bbfeaf5894de58533a0dcd1a25c4e": {
          "model_module": "@jupyter-widgets/controls",
          "model_name": "ProgressStyleModel",
          "state": {
            "_view_name": "StyleView",
            "_model_name": "ProgressStyleModel",
            "description_width": "",
            "_view_module": "@jupyter-widgets/base",
            "_model_module_version": "1.5.0",
            "_view_count": null,
            "_view_module_version": "1.2.0",
            "bar_color": null,
            "_model_module": "@jupyter-widgets/controls"
          }
        },
        "af52f1038f9d43cfbc7cbbd4b18ae4e1": {
          "model_module": "@jupyter-widgets/base",
          "model_name": "LayoutModel",
          "state": {
            "_view_name": "LayoutView",
            "grid_template_rows": null,
            "right": null,
            "justify_content": null,
            "_view_module": "@jupyter-widgets/base",
            "overflow": null,
            "_model_module_version": "1.2.0",
            "_view_count": null,
            "flex_flow": null,
            "width": null,
            "min_width": null,
            "border": null,
            "align_items": null,
            "bottom": null,
            "_model_module": "@jupyter-widgets/base",
            "top": null,
            "grid_column": null,
            "overflow_y": null,
            "overflow_x": null,
            "grid_auto_flow": null,
            "grid_area": null,
            "grid_template_columns": null,
            "flex": null,
            "_model_name": "LayoutModel",
            "justify_items": null,
            "grid_row": null,
            "max_height": null,
            "align_content": null,
            "visibility": null,
            "align_self": null,
            "height": null,
            "min_height": null,
            "padding": null,
            "grid_auto_rows": null,
            "grid_gap": null,
            "max_width": null,
            "order": null,
            "_view_module_version": "1.2.0",
            "grid_template_areas": null,
            "object_position": null,
            "object_fit": null,
            "grid_auto_columns": null,
            "margin": null,
            "display": null,
            "left": null
          }
        },
        "293f87ead2074f71877a4a40414de089": {
          "model_module": "@jupyter-widgets/controls",
          "model_name": "DescriptionStyleModel",
          "state": {
            "_view_name": "StyleView",
            "_model_name": "DescriptionStyleModel",
            "description_width": "",
            "_view_module": "@jupyter-widgets/base",
            "_model_module_version": "1.5.0",
            "_view_count": null,
            "_view_module_version": "1.2.0",
            "_model_module": "@jupyter-widgets/controls"
          }
        },
        "bc712789d7d54cd597a948a5924fb9b9": {
          "model_module": "@jupyter-widgets/base",
          "model_name": "LayoutModel",
          "state": {
            "_view_name": "LayoutView",
            "grid_template_rows": null,
            "right": null,
            "justify_content": null,
            "_view_module": "@jupyter-widgets/base",
            "overflow": null,
            "_model_module_version": "1.2.0",
            "_view_count": null,
            "flex_flow": null,
            "width": null,
            "min_width": null,
            "border": null,
            "align_items": null,
            "bottom": null,
            "_model_module": "@jupyter-widgets/base",
            "top": null,
            "grid_column": null,
            "overflow_y": null,
            "overflow_x": null,
            "grid_auto_flow": null,
            "grid_area": null,
            "grid_template_columns": null,
            "flex": null,
            "_model_name": "LayoutModel",
            "justify_items": null,
            "grid_row": null,
            "max_height": null,
            "align_content": null,
            "visibility": null,
            "align_self": null,
            "height": null,
            "min_height": null,
            "padding": null,
            "grid_auto_rows": null,
            "grid_gap": null,
            "max_width": null,
            "order": null,
            "_view_module_version": "1.2.0",
            "grid_template_areas": null,
            "object_position": null,
            "object_fit": null,
            "grid_auto_columns": null,
            "margin": null,
            "display": null,
            "left": null
          }
        },
        "5144a3ba176d4feb9b4137f6ca405afb": {
          "model_module": "@jupyter-widgets/controls",
          "model_name": "HBoxModel",
          "state": {
            "_view_name": "HBoxView",
            "_dom_classes": [],
            "_model_name": "HBoxModel",
            "_view_module": "@jupyter-widgets/controls",
            "_model_module_version": "1.5.0",
            "_view_count": null,
            "_view_module_version": "1.5.0",
            "box_style": "",
            "layout": "IPY_MODEL_48009b20e5c648fd89931e2991d1a996",
            "_model_module": "@jupyter-widgets/controls",
            "children": [
              "IPY_MODEL_efe48f0fb53f4a8f9a690d0c7d3cdd97",
              "IPY_MODEL_003cadc8d350477d9e329389adf89c13"
            ]
          }
        },
        "48009b20e5c648fd89931e2991d1a996": {
          "model_module": "@jupyter-widgets/base",
          "model_name": "LayoutModel",
          "state": {
            "_view_name": "LayoutView",
            "grid_template_rows": null,
            "right": null,
            "justify_content": null,
            "_view_module": "@jupyter-widgets/base",
            "overflow": null,
            "_model_module_version": "1.2.0",
            "_view_count": null,
            "flex_flow": null,
            "width": null,
            "min_width": null,
            "border": null,
            "align_items": null,
            "bottom": null,
            "_model_module": "@jupyter-widgets/base",
            "top": null,
            "grid_column": null,
            "overflow_y": null,
            "overflow_x": null,
            "grid_auto_flow": null,
            "grid_area": null,
            "grid_template_columns": null,
            "flex": null,
            "_model_name": "LayoutModel",
            "justify_items": null,
            "grid_row": null,
            "max_height": null,
            "align_content": null,
            "visibility": null,
            "align_self": null,
            "height": null,
            "min_height": null,
            "padding": null,
            "grid_auto_rows": null,
            "grid_gap": null,
            "max_width": null,
            "order": null,
            "_view_module_version": "1.2.0",
            "grid_template_areas": null,
            "object_position": null,
            "object_fit": null,
            "grid_auto_columns": null,
            "margin": null,
            "display": null,
            "left": null
          }
        },
        "efe48f0fb53f4a8f9a690d0c7d3cdd97": {
          "model_module": "@jupyter-widgets/controls",
          "model_name": "IntProgressModel",
          "state": {
            "_view_name": "ProgressView",
            "style": "IPY_MODEL_3b593b4d31254755a94a6b53d876ac9f",
            "_dom_classes": [],
            "description": "",
            "_model_name": "IntProgressModel",
            "bar_style": "success",
            "max": 1,
            "_view_module": "@jupyter-widgets/controls",
            "_model_module_version": "1.5.0",
            "value": 1,
            "_view_count": null,
            "_view_module_version": "1.5.0",
            "orientation": "horizontal",
            "min": 0,
            "description_tooltip": null,
            "_model_module": "@jupyter-widgets/controls",
            "layout": "IPY_MODEL_59b5df7fed1c421a8e568ff8d2513623"
          }
        },
        "003cadc8d350477d9e329389adf89c13": {
          "model_module": "@jupyter-widgets/controls",
          "model_name": "HTMLModel",
          "state": {
            "_view_name": "HTMLView",
            "style": "IPY_MODEL_2e66ee43a01a4e31b9a1b409cfe124df",
            "_dom_classes": [],
            "description": "",
            "_model_name": "HTMLModel",
            "placeholder": "​",
            "_view_module": "@jupyter-widgets/controls",
            "_model_module_version": "1.5.0",
            "value": "64282624it [00:00, 81295019.58it/s]",
            "_view_count": null,
            "_view_module_version": "1.5.0",
            "description_tooltip": null,
            "_model_module": "@jupyter-widgets/controls",
            "layout": "IPY_MODEL_246c62ccd11b42938537baa844744d52"
          }
        },
        "3b593b4d31254755a94a6b53d876ac9f": {
          "model_module": "@jupyter-widgets/controls",
          "model_name": "ProgressStyleModel",
          "state": {
            "_view_name": "StyleView",
            "_model_name": "ProgressStyleModel",
            "description_width": "",
            "_view_module": "@jupyter-widgets/base",
            "_model_module_version": "1.5.0",
            "_view_count": null,
            "_view_module_version": "1.2.0",
            "bar_color": null,
            "_model_module": "@jupyter-widgets/controls"
          }
        },
        "59b5df7fed1c421a8e568ff8d2513623": {
          "model_module": "@jupyter-widgets/base",
          "model_name": "LayoutModel",
          "state": {
            "_view_name": "LayoutView",
            "grid_template_rows": null,
            "right": null,
            "justify_content": null,
            "_view_module": "@jupyter-widgets/base",
            "overflow": null,
            "_model_module_version": "1.2.0",
            "_view_count": null,
            "flex_flow": null,
            "width": null,
            "min_width": null,
            "border": null,
            "align_items": null,
            "bottom": null,
            "_model_module": "@jupyter-widgets/base",
            "top": null,
            "grid_column": null,
            "overflow_y": null,
            "overflow_x": null,
            "grid_auto_flow": null,
            "grid_area": null,
            "grid_template_columns": null,
            "flex": null,
            "_model_name": "LayoutModel",
            "justify_items": null,
            "grid_row": null,
            "max_height": null,
            "align_content": null,
            "visibility": null,
            "align_self": null,
            "height": null,
            "min_height": null,
            "padding": null,
            "grid_auto_rows": null,
            "grid_gap": null,
            "max_width": null,
            "order": null,
            "_view_module_version": "1.2.0",
            "grid_template_areas": null,
            "object_position": null,
            "object_fit": null,
            "grid_auto_columns": null,
            "margin": null,
            "display": null,
            "left": null
          }
        },
        "2e66ee43a01a4e31b9a1b409cfe124df": {
          "model_module": "@jupyter-widgets/controls",
          "model_name": "DescriptionStyleModel",
          "state": {
            "_view_name": "StyleView",
            "_model_name": "DescriptionStyleModel",
            "description_width": "",
            "_view_module": "@jupyter-widgets/base",
            "_model_module_version": "1.5.0",
            "_view_count": null,
            "_view_module_version": "1.2.0",
            "_model_module": "@jupyter-widgets/controls"
          }
        },
        "246c62ccd11b42938537baa844744d52": {
          "model_module": "@jupyter-widgets/base",
          "model_name": "LayoutModel",
          "state": {
            "_view_name": "LayoutView",
            "grid_template_rows": null,
            "right": null,
            "justify_content": null,
            "_view_module": "@jupyter-widgets/base",
            "overflow": null,
            "_model_module_version": "1.2.0",
            "_view_count": null,
            "flex_flow": null,
            "width": null,
            "min_width": null,
            "border": null,
            "align_items": null,
            "bottom": null,
            "_model_module": "@jupyter-widgets/base",
            "top": null,
            "grid_column": null,
            "overflow_y": null,
            "overflow_x": null,
            "grid_auto_flow": null,
            "grid_area": null,
            "grid_template_columns": null,
            "flex": null,
            "_model_name": "LayoutModel",
            "justify_items": null,
            "grid_row": null,
            "max_height": null,
            "align_content": null,
            "visibility": null,
            "align_self": null,
            "height": null,
            "min_height": null,
            "padding": null,
            "grid_auto_rows": null,
            "grid_gap": null,
            "max_width": null,
            "order": null,
            "_view_module_version": "1.2.0",
            "grid_template_areas": null,
            "object_position": null,
            "object_fit": null,
            "grid_auto_columns": null,
            "margin": null,
            "display": null,
            "left": null
          }
        }
      }
    },
    "accelerator": "GPU"
  },
  "cells": [
    {
      "cell_type": "markdown",
      "metadata": {
        "id": "view-in-github",
        "colab_type": "text"
      },
      "source": [
        "<a href=\"https://colab.research.google.com/github/lollipopenator/Manning/blob/master/Pose_Estimation_2_Intro_to_CNNS.ipynb\" target=\"_parent\"><img src=\"https://colab.research.google.com/assets/colab-badge.svg\" alt=\"Open In Colab\"/></a>"
      ]
    },
    {
      "cell_type": "markdown",
      "metadata": {
        "id": "tgMA3eo7PeDC",
        "colab_type": "text"
      },
      "source": [
        "Following Tutorial at https://pytorch.org/tutorials/beginner/blitz/cifar10_tutorial.html#sphx-glr-beginner-blitz-cifar10-tutorial-py\n",
        "\n",
        "\n",
        "Some other models I looked at:\n",
        "\n",
        "https://github.com/potterhsu/SVHNClassifier-PyTorch/blob/master/model.py (I used hyperparameters from here)\n",
        "\n",
        "https://github.com/blaueck/pytorch-demo/blob/master/models/simple_cnn.py\n"
      ]
    },
    {
      "cell_type": "markdown",
      "metadata": {
        "id": "uAhsA32OnMoi",
        "colab_type": "text"
      },
      "source": [
        "# Start SVHN"
      ]
    },
    {
      "cell_type": "code",
      "metadata": {
        "colab_type": "code",
        "id": "LfWrUcKsFR0l",
        "colab": {}
      },
      "source": [
        "import torch\n",
        "import torchvision\n",
        "import torchvision.transforms as transforms\n",
        "\n",
        "import logging\n",
        "logging.basicConfig()\n",
        "\n",
        "# creates a new logger called 'SVHN_logger'\n",
        "# Future calls to getLogger with this name will always return the same instance,\n",
        "svhn_logger = logging.getLogger('SVHN_logger')\n",
        "\n",
        "######## Select an option below for logging level ########\n",
        "# The loggoinmg level can also be set later in the code,  just prior to where\n",
        "# you want to  enable logging.\n",
        "# \n",
        "# svhn_logger.setLevel(logging.DEBUG) \n",
        "# the above will log all messages (DEBUG, INFO, WARNING, ERROR, CRITICAL)\n",
        "\n",
        "\n",
        "svhn_logger.setLevel(logging.INFO) \n",
        "# the above will only log messages at level INFO and higher (basically shuts off all my\n",
        "# verbose debug output)\n",
        "\n"
      ],
      "execution_count": 0,
      "outputs": []
    },
    {
      "cell_type": "code",
      "metadata": {
        "id": "y0a5Jq7Dojzm",
        "colab_type": "code",
        "colab": {}
      },
      "source": [
        "# download the train and test datasets\n",
        "# !wget http://ufldl.stanford.edu/housenumbers/train_32x32.mat\n",
        "# !wget http://ufldl.stanford.edu/housenumbers/test_32x32.mat\n",
        "\n"
      ],
      "execution_count": 0,
      "outputs": []
    },
    {
      "cell_type": "markdown",
      "metadata": {
        "id": "n-j9I1IKXL63",
        "colab_type": "text"
      },
      "source": [
        "Setup Transforms"
      ]
    },
    {
      "cell_type": "markdown",
      "metadata": {
        "id": "zwgNn_hlQ9Cs",
        "colab_type": "text"
      },
      "source": [
        "The below is from https://forums.fast.ai/t/image-normalization-in-pytorch/7534\n",
        "\n",
        "https://forums.fast.ai/t/image-normalization-in-pytorch/7534/6\n",
        "\n",
        "\n",
        "\n",
        "\n",
        "---\n",
        "\n",
        "  The code below is inspired by code found in this post:\n",
        "  https://forums.fast.ai/t/image-normalization-in-pytorch/7534/7\n",
        "  \n",
        "\n",
        "  wsl_na may also need to divide by 255 as per here: https://forums.fast.ai/t/image-normalization-in-pytorch/7534/9\n"
      ]
    },
    {
      "cell_type": "code",
      "metadata": {
        "id": "5GDfHP_UQM1P",
        "colab_type": "code",
        "colab": {}
      },
      "source": [
        "# Helper function for precalculating the per-channel means and stds over the \n",
        "# entire dataset\n",
        "def get_dataset_mean_and_std():\n",
        "  img_transform = transforms.ToTensor() \n",
        "\n",
        "  # Load the trainset for the purpose of calculating the per-channel mean and std\n",
        "  # over the entire trainset. \n",
        "  # We will pass these values (dataset mean/std) into \n",
        "  # the per-image transform when we later load the testset to do some actual \n",
        "  # work.\n",
        "  # On this first load of the data we only use the ToTensor() transform \n",
        "  # and no other transforms, as the whole point of this bit is to find the values \n",
        "  # we are going to use later in the per-image transform.\n",
        "  trainset = torchvision.datasets.SVHN(root='/content', split='train', \n",
        "                                    transform=transforms.ToTensor(),\n",
        "                                    download=True)\n",
        "\n",
        "  svhn_logger.debug('In get_dataset_mean_and_std(): loaded testset to calculate per-dataset mean and std...')\n",
        "\n",
        "  import numpy as np\n",
        "\n",
        "\n",
        "  loader = torch.utils.data.DataLoader(trainset, batch_size=4096, shuffle=False, num_workers=4)\n",
        "\n",
        "  pop_mean = []\n",
        "  pop_std0 = []\n",
        "\n",
        "  for i, data in enumerate(loader, 0):\n",
        "\n",
        "      # shape (batch_size, 3, height, width)\n",
        "      numpy_image = data[0].numpy()\n",
        "      \n",
        "      # shape (3,)\n",
        "      batch_mean = np.mean(numpy_image, axis=(0,2,3))\n",
        "      batch_std0 = np.std(numpy_image, axis=(0,2,3))\n",
        "  \n",
        "      \n",
        "      pop_mean.append(batch_mean)\n",
        "      pop_std0.append(batch_std0)\n",
        "  \n",
        "\n",
        "  # # shape (num_iterations, 3) -> (mean across 0th axis) -> shape (3,)\n",
        "  pop_mean = np.array(pop_mean).mean(axis=0)\n",
        "  pop_std0 = np.array(pop_std0).mean(axis=0)\n",
        "\n",
        "  svhn_logger.debug('len(trainset): %s', len(trainset))\n",
        "  svhn_logger.debug('len(trainset)/batch_size: %s', len(trainset)/4096)\n",
        "  svhn_logger.debug('i: %s', i)\n",
        "  svhn_logger.debug('pop_mean: %s', pop_mean)\n",
        "  svhn_logger.debug('pop_std0: %s', pop_std0)\n",
        "\n",
        "  svhn_logger.info('Finished calulating per-channel means and stds over entire testset...')\n",
        "  return ({'mean': pop_mean, 'std': pop_std0})\n"
      ],
      "execution_count": 0,
      "outputs": []
    },
    {
      "cell_type": "markdown",
      "metadata": {
        "id": "PQpeNp9xWzN1",
        "colab_type": "text"
      },
      "source": [
        "Create dataset using transforms, then create dataloader,  and also do a couple of quick tests/views of data"
      ]
    },
    {
      "cell_type": "code",
      "metadata": {
        "id": "xasksmPFnQXi",
        "colab_type": "code",
        "outputId": "497ca228-783f-40f7-f0ef-6832a0579d0d",
        "colab": {
          "base_uri": "https://localhost:8080/",
          "height": 217,
          "referenced_widgets": [
            "e46e168a6e614cc8bebbbce3aca3d497",
            "6e27b6c3dc9d4eb4add4d2e9b69d4719",
            "78c28ff837e14b7795665b229cf0e439",
            "cd60462ed2ad42cbb48e8663d7c70fbc",
            "180bbfeaf5894de58533a0dcd1a25c4e",
            "af52f1038f9d43cfbc7cbbd4b18ae4e1",
            "293f87ead2074f71877a4a40414de089",
            "bc712789d7d54cd597a948a5924fb9b9",
            "5144a3ba176d4feb9b4137f6ca405afb",
            "48009b20e5c648fd89931e2991d1a996",
            "efe48f0fb53f4a8f9a690d0c7d3cdd97",
            "003cadc8d350477d9e329389adf89c13",
            "3b593b4d31254755a94a6b53d876ac9f",
            "59b5df7fed1c421a8e568ff8d2513623",
            "2e66ee43a01a4e31b9a1b409cfe124df",
            "246c62ccd11b42938537baa844744d52"
          ]
        }
      },
      "source": [
        "# wsl_na check what 'shuffle' value is best\n",
        "\n",
        "# wsl revert to batch_size = 4 when ready. \n",
        "my_batch_size = 4\n",
        "\n",
        "# now that we have the per-channel mean and std over the entire dataset, we\n",
        "# can pass it into the Normalize(..) transform which will be applied to each \n",
        "# image as it is loaded.\n",
        "img_transform = transforms.Compose([\n",
        "    transforms.ToTensor(),\n",
        "    transforms.Normalize(**get_dataset_mean_and_std())\n",
        "])\n",
        "\n",
        "######## Training Data\n",
        "trainset = torchvision.datasets.SVHN(root='/content', split='train', \n",
        "                                    transform=img_transform, target_transform=None,\n",
        "                                    download=True)\n",
        "svhn_logger.info('created trainset')\n",
        "trainloader = torch.utils.data.DataLoader(trainset, batch_size = my_batch_size,\n",
        "                                         shuffle=True, num_workers=2)\n",
        "svhn_logger.info('created trainloader')\n",
        "\n",
        "\n",
        "######## Test Data\n",
        "testset = torchvision.datasets.SVHN(root='/content', split='test', \n",
        "                                    transform=img_transform, target_transform=None,\n",
        "                                    download=True)\n",
        "svhn_logger.info('created testset')\n",
        "testloader = torch.utils.data.DataLoader(testset, batch_size = my_batch_size,\n",
        "                                         shuffle=True, num_workers=2)\n",
        "svhn_logger.info('created testloader')"
      ],
      "execution_count": 0,
      "outputs": [
        {
          "output_type": "stream",
          "text": [
            "Downloading http://ufldl.stanford.edu/housenumbers/train_32x32.mat to /content/train_32x32.mat\n"
          ],
          "name": "stdout"
        },
        {
          "output_type": "display_data",
          "data": {
            "application/vnd.jupyter.widget-view+json": {
              "model_id": "e46e168a6e614cc8bebbbce3aca3d497",
              "version_minor": 0,
              "version_major": 2
            },
            "text/plain": [
              "HBox(children=(IntProgress(value=1, bar_style='info', max=1), HTML(value='')))"
            ]
          },
          "metadata": {
            "tags": []
          }
        },
        {
          "output_type": "stream",
          "text": [
            "INFO:SVHN_logger:Finished calulating per-channel means and stds over entire testset...\n"
          ],
          "name": "stderr"
        },
        {
          "output_type": "stream",
          "text": [
            "Using downloaded and verified file: /content/train_32x32.mat\n"
          ],
          "name": "stdout"
        },
        {
          "output_type": "stream",
          "text": [
            "INFO:SVHN_logger:created trainset\n",
            "INFO:SVHN_logger:created trainloader\n"
          ],
          "name": "stderr"
        },
        {
          "output_type": "stream",
          "text": [
            "Downloading http://ufldl.stanford.edu/housenumbers/test_32x32.mat to /content/test_32x32.mat\n"
          ],
          "name": "stdout"
        },
        {
          "output_type": "display_data",
          "data": {
            "application/vnd.jupyter.widget-view+json": {
              "model_id": "5144a3ba176d4feb9b4137f6ca405afb",
              "version_minor": 0,
              "version_major": 2
            },
            "text/plain": [
              "HBox(children=(IntProgress(value=1, bar_style='info', max=1), HTML(value='')))"
            ]
          },
          "metadata": {
            "tags": []
          }
        },
        {
          "output_type": "stream",
          "text": [
            "INFO:SVHN_logger:created testset\n",
            "INFO:SVHN_logger:created testloader\n"
          ],
          "name": "stderr"
        }
      ]
    },
    {
      "cell_type": "markdown",
      "metadata": {
        "id": "mFHI5pVi8osR",
        "colab_type": "text"
      },
      "source": [
        "\n",
        "These means are over the entire image, rather than per RGB color-channel\n",
        "However they still give a general idea whether the values are between \n",
        "approximately -3 and +3, which is where they ought to be after standardisation.\n",
        "\n",
        "See ie https://machinelearningmastery.com/how-to-manually-scale-image-pixel-data-for-deep-learning/"
      ]
    },
    {
      "cell_type": "code",
      "metadata": {
        "id": "8w2hTPU3r4U5",
        "colab_type": "code",
        "outputId": "56577110-1007-430b-a3df-79eb3dd6c981",
        "colab": {
          "base_uri": "https://localhost:8080/",
          "height": 240
        }
      },
      "source": [
        "import matplotlib.pyplot as plt\n",
        "import numpy as np\n",
        "# matplotlib was giving too many info- and debug- level logs.\n",
        "# grab an instance of its logger and set it to warnings only.\n",
        "logging.getLogger(plt.__name__).setLevel(logging.WARNING)\n",
        "\n",
        "\n",
        "# functions to show an image and to provide general info about it\n",
        "def imshow(img):\n",
        "    img = img / 2 + 0.5     # roughly unnormalize # wsl maybe fix\n",
        "    img = img.cpu() # Needed when running on GPU\n",
        "    npimg = img.numpy()\n",
        "    plt.imshow(np.transpose(npimg, (1, 2, 0)))\n",
        "    plt.show()\n",
        "\n",
        "def image_info(img):\n",
        "    # Main info about this image\n",
        "    print('image_info: img.shape: %s', img.shape)\n",
        "\n",
        "    # additional info which may sometimes be needed is below\n",
        "    # these means are over the entire image, rather than per RGB color-channel\n",
        "    # (see notes above as to why)\n",
        "    svhn_logger.debug('image_info: img.mean(): %s', img.mean())\n",
        "    svhn_logger.debug('image_info: ----------------------------------img.min(): %s', img.min())\n",
        "    svhn_logger.debug('image_infoL----------------------------------------------------------------img.max(): %s', img.max())\n",
        "\n",
        "    # uncomment to show the mean per RGB channel\n",
        "    # logger.debug('image_info: img.mean(): %s', img.mean(axis=(1,2)))\n",
        "\n",
        "\n",
        "# get some random training images and display them (and associated labels)\n",
        "dataiter = iter(trainloader)\n",
        "images, labels = dataiter.next()\n",
        "\n",
        "\n",
        "for image in images:\n",
        "  image_info(image)\n",
        "\n",
        "imshow(torchvision.utils.make_grid(images))\n",
        "print('GroundTruth: ', ' '.join('%5s' % labels[j] for j in range(my_batch_size))) # wsl revert to 4\n"
      ],
      "execution_count": 0,
      "outputs": [
        {
          "output_type": "stream",
          "text": [
            "WARNING:matplotlib.image:Clipping input data to the valid range for imshow with RGB data ([0..1] for floats or [0..255] for integers).\n"
          ],
          "name": "stderr"
        },
        {
          "output_type": "stream",
          "text": [
            "image_info: img.shape: %s torch.Size([3, 32, 32])\n",
            "image_info: img.shape: %s torch.Size([3, 32, 32])\n",
            "image_info: img.shape: %s torch.Size([3, 32, 32])\n",
            "image_info: img.shape: %s torch.Size([3, 32, 32])\n"
          ],
          "name": "stdout"
        },
        {
          "output_type": "display_data",
          "data": {
            "image/png": "[encoded data removed]",
            "text/plain": [
              "<Figure size 432x288 with 1 Axes>"
            ]
          },
          "metadata": {
            "tags": []
          }
        },
        {
          "output_type": "stream",
          "text": [
            "GroundTruth:  tensor(4) tensor(3) tensor(5) tensor(0)\n"
          ],
          "name": "stdout"
        }
      ]
    },
    {
      "cell_type": "markdown",
      "metadata": {
        "id": "shQt-FdEQUGS",
        "colab_type": "text"
      },
      "source": [
        "## 2. Define a Convolutional Neural Network"
      ]
    },
    {
      "cell_type": "markdown",
      "metadata": {
        "id": "jh36vsV45xdg",
        "colab_type": "text"
      },
      "source": [
        "https://discuss.pytorch.org/t/is-there-similar-pytorch-function-as-model-summary-as-keras/2678/5\n",
        "\n",
        "How to work out the correct parameters for the fc layer at the end.:\n",
        "```\n",
        "from torchsummary import summary\n",
        "summary(net, (3, 32, 32))\n",
        "```\n",
        "\n",
        "where (3, 32, 32) is the input shape, which needs to be known in advance. The output size of the following layers given this input will be displayed by the summary(..) call, in the same format as that used in KERAS.\n",
        "\n",
        "\n",
        "---\n",
        "\n",
        "https://pytorch.org/docs/stable/nn.html#batchnorm2d\n",
        "\n",
        "See also discussion here:\n",
        "https://discuss.pytorch.org/t/example-on-how-to-use-batch-norm/216\n",
        "\n",
        "\n",
        "---\n",
        "\n",
        "I tried out hyper-parameters from first three layers of networks here:\n",
        " https://github.com/potterhsu/SVHNClassifier-PyTorch/blob/master/model.py\n",
        " https://github.com/blaueck/pytorch-demo/blob/master/models/simple_cnn.py\n",
        "\n"
      ]
    },
    {
      "cell_type": "code",
      "metadata": {
        "id": "8X3kNGJUDV_b",
        "colab_type": "code",
        "outputId": "2ea4ddf0-af98-4b2f-bdbe-5050bd8906ed",
        "colab": {
          "base_uri": "https://localhost:8080/",
          "height": 34
        }
      },
      "source": [
        "device = torch.device(\"cuda:0\" if torch.cuda.is_available() else \"cpu\")\n",
        "\n",
        "# Assuming that we are on a CUDA machine, this should print a CUDA device:\n",
        "\n",
        "print(device)"
      ],
      "execution_count": 0,
      "outputs": [
        {
          "output_type": "stream",
          "text": [
            "cuda:0\n"
          ],
          "name": "stdout"
        }
      ]
    },
    {
      "cell_type": "code",
      "metadata": {
        "id": "gM2WHEhdQYSX",
        "colab_type": "code",
        "colab": {}
      },
      "source": [
        "import torch.nn as nn\n",
        "import torch.nn.functional as F\n",
        "\n",
        "\n",
        "\n",
        "# wsl_na\n",
        "# Initialize the weights of the convolutioanl layers with a normal distribution \n",
        "# with std=0.001, and their biases with a constant value of 0\n",
        "# wsl_na move to gpu\n",
        "\n",
        "class Net(nn.Module):\n",
        "    def __init__(self):\n",
        "        super(Net, self).__init__()\n",
        "\n",
        "        # Three convolutional layers with batchnorm, maxpooling, and \n",
        "        # ReLU activation.\n",
        "        self._hidden1 = nn.Sequential(\n",
        "            nn.Conv2d(kernel_size=5, in_channels=3, out_channels=48, stride=1, padding=4),\n",
        "            nn.BatchNorm2d(num_features=48),\n",
        "            nn.ReLU(),\n",
        "            nn.MaxPool2d(kernel_size=2, stride=2),\n",
        "            # nn.Dropout(0.2)\n",
        "        )\n",
        "        self._hidden2 = nn.Sequential(\n",
        "            nn.Conv2d(kernel_size=3, in_channels=48, out_channels=64, stride=1, padding=2),\n",
        "            nn.BatchNorm2d(num_features=64),\n",
        "            nn.ReLU(),\n",
        "            nn.MaxPool2d(kernel_size=2, stride=2)\n",
        "            # nn.Dropout(0.2)\n",
        "        )\n",
        "        self._hidden3 = nn.Sequential(\n",
        "            nn.Conv2d(kernel_size=3, in_channels=64, out_channels=128, stride=1, padding=2),\n",
        "            nn.BatchNorm2d(num_features=128),\n",
        "            nn.ReLU(),\n",
        "            nn.MaxPool2d(kernel_size=2, stride=2)\n",
        "            # nn.Dropout(0.2)\n",
        "        )\n",
        "\n",
        "        # A single fully-connected layer at the end  \n",
        "        self.fc = nn.Linear(128 * 6 * 6, 10)\n",
        "       \n",
        "\n",
        "        \n",
        "\n",
        "    def forward(self, x):\n",
        "\n",
        "        x = self._hidden1(x)\n",
        "        x = self._hidden2(x)\n",
        "        x = self._hidden3(x)\n",
        "\n",
        "        x = x.view(-1, 128 * 6 * 6)\n",
        "        x = self.fc(x)\n",
        "        return x\n",
        "\n",
        "\n",
        "net = Net()\n",
        "\n",
        "\n",
        "# from torchsummary import summary\n",
        "# summary(net, (3, 32, 32))\n",
        "\n"
      ],
      "execution_count": 0,
      "outputs": []
    },
    {
      "cell_type": "markdown",
      "metadata": {
        "id": "LJdguGFfQrnN",
        "colab_type": "text"
      },
      "source": [
        "## 3. Define a Loss function and optimizer"
      ]
    },
    {
      "cell_type": "code",
      "metadata": {
        "id": "ezKLsC24QthP",
        "colab_type": "code",
        "colab": {}
      },
      "source": [
        "import torch.optim as optim\n",
        "\n",
        "criterion = nn.CrossEntropyLoss()\n",
        "optimizer = optim.Adam(net.parameters(), lr=0.001)\n"
      ],
      "execution_count": 0,
      "outputs": []
    },
    {
      "cell_type": "markdown",
      "metadata": {
        "id": "1i6mk0ayQ8p2",
        "colab_type": "text"
      },
      "source": [
        "## 4. Train the network"
      ]
    },
    {
      "cell_type": "code",
      "metadata": {
        "id": "aEf-9cjARFlz",
        "colab_type": "code",
        "outputId": "4923d7aa-df20-4cf6-dc26-96f9fbb5beef",
        "colab": {
          "base_uri": "https://localhost:8080/",
          "height": 340
        }
      },
      "source": [
        "\n",
        "\n",
        "# Training Loop: Now it is time to define the training procedure. Again, you can follow closely the pytorch tutorial:\n",
        "\n",
        "# loss function: Use Softmax-Crossentropy (torch.nn.CrossEntropyLoss) for classification\n",
        "# optimizer: the Adam optimizer is often a good starting point.\n",
        "\n",
        "# Print out the loss periodically, so you can monitor the training progress. For bigger tasks, you can look into Tensorboard but for our project, we won’t need it.\n",
        "\n",
        "# Also calculate the accuracy on the testset periodically. Sometimes the loss does not decrease, but the accuracy still improves.\n",
        "\n",
        "# Learning rate: Try to find a good learning rate. If it is too big, your loss will increase. If it’s too small, your loss will decrease very slowly or not at all.\n",
        "# Decreasing the learning rate after a few epochs sometimes gives a small boost in the model accuracy.\n",
        "\n",
        "# Batch-size: Generally, the bigger the better. It is usually limited by the GPU memory\n",
        "\n",
        "# Make sure you move the model, the images and the labels to the GPU memory with xx.to(‘cuda’) AND you run model.train() and model.eval() when needed.\n",
        "net.to(device)\n",
        "\n",
        "for epoch in range(2):  # loop over the dataset multiple times\n",
        "\n",
        "    running_loss = 0.0\n",
        "    for i, data in enumerate(trainloader, 0):\n",
        "        # get the inputs; data is a list of [inputs, labels]\n",
        "        # inputs, labels = data\n",
        "        inputs, labels = data[0].to(device), data[1].to(device)\n",
        "\n",
        "        # zero the parameter gradients\n",
        "        optimizer.zero_grad()\n",
        "\n",
        "        # forward + backward + optimize\n",
        "        outputs = net(inputs)\n",
        "        loss = criterion(outputs, labels)\n",
        "        loss.backward()\n",
        "        optimizer.step()\n",
        "\n",
        "        # print statistics\n",
        "        running_loss += loss.item()\n",
        "        if i % 2000 == 1999:    # print every 2000 mini-batches\n",
        "            print('[%d, %5d] loss: %.3f' %\n",
        "                  (epoch + 1, i + 1, running_loss / 2000))\n",
        "            running_loss = 0.0\n",
        "\n",
        "print('Finished Training')"
      ],
      "execution_count": 0,
      "outputs": [
        {
          "output_type": "stream",
          "text": [
            "[1,  2000] loss: 1.721\n",
            "[1,  4000] loss: 0.719\n",
            "[1,  6000] loss: 0.578\n",
            "[1,  8000] loss: 0.507\n",
            "[1, 10000] loss: 0.469\n",
            "[1, 12000] loss: 0.439\n",
            "[1, 14000] loss: 0.424\n",
            "[1, 16000] loss: 0.402\n",
            "[1, 18000] loss: 0.375\n",
            "[2,  2000] loss: 0.330\n",
            "[2,  4000] loss: 0.326\n",
            "[2,  6000] loss: 0.339\n",
            "[2,  8000] loss: 0.314\n",
            "[2, 10000] loss: 0.316\n",
            "[2, 12000] loss: 0.308\n",
            "[2, 14000] loss: 0.307\n",
            "[2, 16000] loss: 0.325\n",
            "[2, 18000] loss: 0.327\n",
            "Finished Training\n"
          ],
          "name": "stdout"
        }
      ]
    },
    {
      "cell_type": "markdown",
      "metadata": {
        "id": "7JP1OpBJRYcD",
        "colab_type": "text"
      },
      "source": [
        "## 4a. Save the Model."
      ]
    },
    {
      "cell_type": "markdown",
      "metadata": {
        "id": "I9ytJOF1RU4D",
        "colab_type": "text"
      },
      "source": [
        ""
      ]
    },
    {
      "cell_type": "code",
      "metadata": {
        "id": "EyFA1zR5RVkb",
        "colab_type": "code",
        "colab": {}
      },
      "source": [
        "\n",
        "PATH = '/content/svhn.net'\n",
        "torch.save(net.state_dict(), PATH)\n"
      ],
      "execution_count": 0,
      "outputs": []
    },
    {
      "cell_type": "markdown",
      "metadata": {
        "id": "NAuRRt2rRjfJ",
        "colab_type": "text"
      },
      "source": [
        "# 5. Test the network on the test data"
      ]
    },
    {
      "cell_type": "code",
      "metadata": {
        "id": "fUS7ItaGRzxD",
        "colab_type": "code",
        "outputId": "635b54d4-1cc3-425d-994d-08009dedad9c",
        "colab": {
          "base_uri": "https://localhost:8080/",
          "height": 172
        }
      },
      "source": [
        "dataiter = iter(testloader)\n",
        "# images, labels = dataiter.next()\n",
        "data = dataiter.next()\n",
        "images, labels = data[0].to(device), data[1].to(device)\n",
        "\n",
        "# wsl_na fix this!\n",
        "# print images\n",
        "imshow(torchvision.utils.make_grid(images))\n",
        "print('GroundTruth: ', ' '.join('%5s' % labels[j] for j in range(4)))"
      ],
      "execution_count": 0,
      "outputs": [
        {
          "output_type": "stream",
          "text": [
            "WARNING:matplotlib.image:Clipping input data to the valid range for imshow with RGB data ([0..1] for floats or [0..255] for integers).\n"
          ],
          "name": "stderr"
        },
        {
          "output_type": "display_data",
          "data": {
            "image/png": "[encoded data removed]",
            "text/plain": [
              "<Figure size 432x288 with 1 Axes>"
            ]
          },
          "metadata": {
            "tags": []
          }
        },
        {
          "output_type": "stream",
          "text": [
            "GroundTruth:  tensor(7, device='cuda:0') tensor(3, device='cuda:0') tensor(9, device='cuda:0') tensor(3, device='cuda:0')\n"
          ],
          "name": "stdout"
        }
      ]
    },
    {
      "cell_type": "markdown",
      "metadata": {
        "id": "h08Y8FqhSIwS",
        "colab_type": "text"
      },
      "source": [
        "Load the saved model back in ( (note: saving and re-loading the model wasn’t necessary here, we only did it to illustrate how to do so):"
      ]
    },
    {
      "cell_type": "code",
      "metadata": {
        "id": "5D-fcOdBSPef",
        "colab_type": "code",
        "colab": {}
      },
      "source": [
        "net = Net()\n",
        "net.load_state_dict(torch.load(PATH))\n",
        "net.to(device)"
      ],
      "execution_count": 0,
      "outputs": []
    },
    {
      "cell_type": "code",
      "metadata": {
        "id": "T-D1D2twSYvF",
        "colab_type": "code",
        "outputId": "0b939588-4c0f-48c5-c2ea-6e0c449d049b",
        "colab": {
          "base_uri": "https://localhost:8080/",
          "height": 34
        }
      },
      "source": [
        "# Okay, now let us see what the neural network thinks these examples above are:\n",
        "\n",
        "\n",
        "outputs = net(images)\n",
        "# The outputs are energies for the 10 classes. The higher the energy for a class, the more the network thinks that the image is of the particular class. So, let’s get the index of the highest energy:\n",
        "\n",
        "_, predicted = torch.max(outputs, 1)\n",
        "\n",
        "print('Predicted: ', ' '.join('%5s' % predicted[j]\n",
        "                              for j in range(my_batch_size)))"
      ],
      "execution_count": 0,
      "outputs": [
        {
          "output_type": "stream",
          "text": [
            "Predicted:  tensor(7, device='cuda:0') tensor(3, device='cuda:0') tensor(9, device='cuda:0') tensor(1, device='cuda:0')\n"
          ],
          "name": "stdout"
        }
      ]
    },
    {
      "cell_type": "code",
      "metadata": {
        "id": "Co0cv7QHSnmT",
        "colab_type": "code",
        "outputId": "91393b49-49f2-4ad5-f5dc-ebf1b82d47ce",
        "colab": {
          "base_uri": "https://localhost:8080/",
          "height": 34
        }
      },
      "source": [
        "# The results seem pretty good.\n",
        "\n",
        "# Let us look at how the network performs on the whole dataset.\n",
        "\n",
        "correct = 0\n",
        "total = 0\n",
        "with torch.no_grad():\n",
        "    for data in testloader:\n",
        "        # images, labels = data\n",
        "        images, labels = data[0].to(device), data[1].to(device)\n",
        "        outputs = net(images)\n",
        "        _, predicted = torch.max(outputs.data, 1)\n",
        "        total += labels.size(0)\n",
        "        correct += (predicted == labels).sum().item()\n",
        "\n",
        "# print('Accuracy of the network on the 10000 test images: %2d %%' % (\n",
        "#     100 * correct / total))\n",
        "\n",
        "print('Accuracy of the network on the %s  test images: %.2f %%' % (len(testset),\n",
        "    100.0000 * correct / total))"
      ],
      "execution_count": 0,
      "outputs": [
        {
          "output_type": "stream",
          "text": [
            "Accuracy of the network on the 26032  test images: 90.15 %\n"
          ],
          "name": "stdout"
        }
      ]
    },
    {
      "cell_type": "markdown",
      "metadata": {
        "id": "OEPke4gXTDh-",
        "colab_type": "text"
      },
      "source": [
        "# On which digits did the network perform best?"
      ]
    },
    {
      "cell_type": "code",
      "metadata": {
        "id": "eQ8yfpyOTIR0",
        "colab_type": "code",
        "outputId": "06f3bcf2-0f16-432a-fc9e-3b437e5de20a",
        "colab": {
          "base_uri": "https://localhost:8080/",
          "height": 187
        }
      },
      "source": [
        "correct_per_class = list(0. for i in range(10))\n",
        "total_per_class = list(0. for i in range(10))\n",
        "with torch.no_grad():\n",
        "    for data in testloader:\n",
        "        # images, labels = data\n",
        "        images, labels = data[0].to(device), data[1].to(device)\n",
        "        outputs = net(images)\n",
        "        _, predicted = torch.max(outputs, 1)\n",
        "        c = (predicted == labels).squeeze()\n",
        "        for i in range(4):\n",
        "            label = labels[i]\n",
        "            correct_per_class[label] += c[i].item()\n",
        "            total_per_class[label] += 1\n",
        "\n",
        "\n",
        "for i in range(10):\n",
        "    print('Accuracy of %5s : %2d %%' % (\n",
        "        i, 100 * correct_per_class[i] / total_per_class[i]))"
      ],
      "execution_count": 0,
      "outputs": [
        {
          "output_type": "stream",
          "text": [
            "Accuracy of     0 : 93 %\n",
            "Accuracy of     1 : 95 %\n",
            "Accuracy of     2 : 93 %\n",
            "Accuracy of     3 : 80 %\n",
            "Accuracy of     4 : 92 %\n",
            "Accuracy of     5 : 92 %\n",
            "Accuracy of     6 : 85 %\n",
            "Accuracy of     7 : 87 %\n",
            "Accuracy of     8 : 79 %\n",
            "Accuracy of     9 : 90 %\n"
          ],
          "name": "stdout"
        }
      ]
    },
    {
      "cell_type": "code",
      "metadata": {
        "id": "wMc_P2udThEr",
        "colab_type": "code",
        "colab": {}
      },
      "source": [
        ""
      ],
      "execution_count": 0,
      "outputs": []
    }
  ]
}